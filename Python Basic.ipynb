{
 "cells": [
  {
   "cell_type": "code",
   "execution_count": 4,
   "id": "852f5a19",
   "metadata": {},
   "outputs": [
    {
     "name": "stdout",
     "output_type": "stream",
     "text": [
      "Hello World\n"
     ]
    }
   ],
   "source": [
    "print(\"Hello World\")"
   ]
  },
  {
   "cell_type": "code",
   "execution_count": 5,
   "id": "61c25bc1",
   "metadata": {},
   "outputs": [
    {
     "name": "stdout",
     "output_type": "stream",
     "text": [
      "Indra Prakash\n"
     ]
    }
   ],
   "source": [
    "print('Indra Prakash')"
   ]
  },
  {
   "cell_type": "markdown",
   "id": "281e3d81",
   "metadata": {},
   "source": [
    "# Heading"
   ]
  },
  {
   "cell_type": "markdown",
   "id": "17de5230",
   "metadata": {},
   "source": [
    "## Heading"
   ]
  },
  {
   "cell_type": "markdown",
   "id": "1bac87cb",
   "metadata": {},
   "source": [
    "### Heading"
   ]
  },
  {
   "cell_type": "markdown",
   "id": "b391c663",
   "metadata": {},
   "source": [
    "#### Heading"
   ]
  },
  {
   "cell_type": "markdown",
   "id": "f85c3fe5",
   "metadata": {},
   "source": [
    "##### Heading"
   ]
  },
  {
   "cell_type": "code",
   "execution_count": null,
   "id": "4e3a2836",
   "metadata": {},
   "outputs": [],
   "source": [
    "This is for practice and Understand Python"
   ]
  },
  {
   "cell_type": "code",
   "execution_count": 8,
   "id": "1bbd3f41",
   "metadata": {},
   "outputs": [
    {
     "name": "stdout",
     "output_type": "stream",
     "text": [
      "5\n"
     ]
    }
   ],
   "source": [
    "print(5)"
   ]
  },
  {
   "cell_type": "code",
   "execution_count": 9,
   "id": "e73b564b",
   "metadata": {},
   "outputs": [
    {
     "name": "stdout",
     "output_type": "stream",
     "text": [
      "2.5\n"
     ]
    }
   ],
   "source": [
    "print(2.5)"
   ]
  },
  {
   "cell_type": "raw",
   "id": "9087e15b",
   "metadata": {},
   "source": [
    "Data types\n",
    "1. int----integer values---eg-7,1,2,23,36\n",
    "2. Float---Decimal values----eg-2.5,1.5,2.8,3.9\n",
    "3. Bool----True or False"
   ]
  },
  {
   "cell_type": "code",
   "execution_count": 11,
   "id": "13ded506",
   "metadata": {},
   "outputs": [
    {
     "name": "stdout",
     "output_type": "stream",
     "text": [
      "India America Russsia Srilanka\n"
     ]
    }
   ],
   "source": [
    "print('India','America','Russsia','Srilanka')"
   ]
  },
  {
   "cell_type": "code",
   "execution_count": 12,
   "id": "3695d73a",
   "metadata": {},
   "outputs": [
    {
     "name": "stdout",
     "output_type": "stream",
     "text": [
      "India/America/Russsia/Srilanka\n"
     ]
    }
   ],
   "source": [
    "print('India','America','Russsia','Srilanka', sep='/')"
   ]
  },
  {
   "cell_type": "code",
   "execution_count": 13,
   "id": "b8dac282",
   "metadata": {},
   "outputs": [
    {
     "name": "stdout",
     "output_type": "stream",
     "text": [
      "India-America-Russsia-Srilanka\n"
     ]
    }
   ],
   "source": [
    "print('India','America','Russsia','Srilanka', sep='-')"
   ]
  },
  {
   "cell_type": "code",
   "execution_count": 14,
   "id": "5f93c5d2",
   "metadata": {},
   "outputs": [
    {
     "name": "stdout",
     "output_type": "stream",
     "text": [
      "India*America*Russsia*Srilanka\n"
     ]
    }
   ],
   "source": [
    "print('India','America','Russsia','Srilanka', sep='*')"
   ]
  },
  {
   "cell_type": "code",
   "execution_count": 15,
   "id": "1e825622",
   "metadata": {},
   "outputs": [
    {
     "name": "stdout",
     "output_type": "stream",
     "text": [
      "50\n"
     ]
    }
   ],
   "source": [
    "x=50\n",
    "print(x)"
   ]
  },
  {
   "cell_type": "code",
   "execution_count": 24,
   "id": "4add33b7",
   "metadata": {},
   "outputs": [
    {
     "name": "stdout",
     "output_type": "stream",
     "text": [
      "20\n"
     ]
    }
   ],
   "source": [
    "# Adding Value with variable\n",
    "y=10\n",
    "y=y+10\n",
    "print(y)"
   ]
  },
  {
   "cell_type": "code",
   "execution_count": 25,
   "id": "97f0e98e",
   "metadata": {},
   "outputs": [
    {
     "name": "stdout",
     "output_type": "stream",
     "text": [
      "15\n"
     ]
    }
   ],
   "source": [
    "#Subtract with Variable\n",
    "y=y-5\n",
    "print(y)"
   ]
  },
  {
   "cell_type": "code",
   "execution_count": 26,
   "id": "ff55c038",
   "metadata": {},
   "outputs": [
    {
     "name": "stdout",
     "output_type": "stream",
     "text": [
      "100\n"
     ]
    }
   ],
   "source": [
    "x=10\n",
    "x=x*10\n",
    "print(x)"
   ]
  },
  {
   "cell_type": "code",
   "execution_count": 27,
   "id": "6c97c063",
   "metadata": {},
   "outputs": [
    {
     "name": "stdout",
     "output_type": "stream",
     "text": [
      "150\n"
     ]
    }
   ],
   "source": [
    "# Multiple Variables\n",
    "a=100\n",
    "b=50\n",
    "print(a+b)    # Addition"
   ]
  },
  {
   "cell_type": "code",
   "execution_count": 28,
   "id": "0a893da8",
   "metadata": {},
   "outputs": [
    {
     "data": {
      "text/plain": [
       "50"
      ]
     },
     "execution_count": 28,
     "metadata": {},
     "output_type": "execute_result"
    }
   ],
   "source": [
    "# Subtraction\n",
    "a-b"
   ]
  },
  {
   "cell_type": "code",
   "execution_count": 29,
   "id": "a2c77c5d",
   "metadata": {},
   "outputs": [
    {
     "data": {
      "text/plain": [
       "5000"
      ]
     },
     "execution_count": 29,
     "metadata": {},
     "output_type": "execute_result"
    }
   ],
   "source": [
    "a*b"
   ]
  },
  {
   "cell_type": "code",
   "execution_count": 30,
   "id": "2d31706e",
   "metadata": {},
   "outputs": [
    {
     "name": "stdout",
     "output_type": "stream",
     "text": [
      "10\n",
      "20\n",
      "30\n"
     ]
    }
   ],
   "source": [
    "a,b,c=10,20,30\n",
    "print(a)\n",
    "print(b)\n",
    "print(c)"
   ]
  },
  {
   "cell_type": "code",
   "execution_count": 31,
   "id": "9860dabb",
   "metadata": {},
   "outputs": [
    {
     "name": "stdout",
     "output_type": "stream",
     "text": [
      "100\n",
      "<class 'int'>\n"
     ]
    }
   ],
   "source": [
    "a=100\n",
    "print(a)\n",
    "print(type(a))"
   ]
  },
  {
   "cell_type": "code",
   "execution_count": 32,
   "id": "177d3028",
   "metadata": {},
   "outputs": [
    {
     "name": "stdout",
     "output_type": "stream",
     "text": [
      "10.5\n",
      "<class 'float'>\n"
     ]
    }
   ],
   "source": [
    "b=10.5\n",
    "print(b)\n",
    "print(type(b))"
   ]
  },
  {
   "cell_type": "code",
   "execution_count": 33,
   "id": "2bc8a442",
   "metadata": {},
   "outputs": [
    {
     "name": "stdout",
     "output_type": "stream",
     "text": [
      "Enter a  Numeric value: 10\n",
      "10\n"
     ]
    }
   ],
   "source": [
    "x=int(input('Enter a  Numeric value: '))\n",
    "print(x)"
   ]
  },
  {
   "cell_type": "markdown",
   "id": "6438e564",
   "metadata": {},
   "source": [
    "# Operators"
   ]
  },
  {
   "cell_type": "code",
   "execution_count": 34,
   "id": "b94f3200",
   "metadata": {},
   "outputs": [
    {
     "name": "stdout",
     "output_type": "stream",
     "text": [
      "13\n",
      "7\n",
      "30\n",
      "1\n",
      "3\n",
      "1000\n"
     ]
    }
   ],
   "source": [
    "# Airthmetic Operators\n",
    "a=10\n",
    "b=3\n",
    "print(a+b)\n",
    "print(a-b)\n",
    "print(a*b)\n",
    "print(a%b)\n",
    "print(a//b)\n",
    "print(a**b)"
   ]
  },
  {
   "cell_type": "code",
   "execution_count": 35,
   "id": "9598cc53",
   "metadata": {},
   "outputs": [
    {
     "name": "stdout",
     "output_type": "stream",
     "text": [
      "5.0\n"
     ]
    }
   ],
   "source": [
    "a=25\n",
    "print(a**(1/2))"
   ]
  },
  {
   "cell_type": "code",
   "execution_count": 36,
   "id": "1d8e9867",
   "metadata": {},
   "outputs": [
    {
     "name": "stdout",
     "output_type": "stream",
     "text": [
      "False\n",
      "True\n",
      "True\n",
      "False\n"
     ]
    }
   ],
   "source": [
    "#Relational Operator\n",
    "a=100\n",
    "b=50\n",
    "print(a<b)\n",
    "print(a>b)\n",
    "print(a>=b)\n",
    "print(a<=b)"
   ]
  },
  {
   "cell_type": "code",
   "execution_count": 37,
   "id": "94b994b5",
   "metadata": {},
   "outputs": [
    {
     "name": "stdout",
     "output_type": "stream",
     "text": [
      "True\n",
      "True\n",
      "False\n"
     ]
    }
   ],
   "source": [
    "#Membership Operator\n",
    "s='python'\n",
    "\n",
    "print('y' in s)\n",
    "print('h' in s)\n",
    "print('z' in s)"
   ]
  },
  {
   "cell_type": "markdown",
   "id": "dd245eca",
   "metadata": {},
   "source": [
    "# List"
   ]
  },
  {
   "cell_type": "code",
   "execution_count": 39,
   "id": "15bd3c92",
   "metadata": {},
   "outputs": [
    {
     "name": "stdout",
     "output_type": "stream",
     "text": [
      "['Sam', 25, 2.5, 'Delhi']\n"
     ]
    }
   ],
   "source": [
    "list=['Sam',25,2.5,'Delhi']\n",
    "print(list)"
   ]
  },
  {
   "cell_type": "code",
   "execution_count": 40,
   "id": "e7cbbe95",
   "metadata": {},
   "outputs": [
    {
     "name": "stdout",
     "output_type": "stream",
     "text": [
      "4\n"
     ]
    }
   ],
   "source": [
    "#length of the list\n",
    "print(len(list))"
   ]
  },
  {
   "cell_type": "code",
   "execution_count": 41,
   "id": "6517ccc6",
   "metadata": {},
   "outputs": [
    {
     "data": {
      "text/plain": [
       "'Sam'"
      ]
     },
     "execution_count": 41,
     "metadata": {},
     "output_type": "execute_result"
    }
   ],
   "source": [
    "list[0]"
   ]
  },
  {
   "cell_type": "code",
   "execution_count": 42,
   "id": "70b0b808",
   "metadata": {},
   "outputs": [
    {
     "data": {
      "text/plain": [
       "25"
      ]
     },
     "execution_count": 42,
     "metadata": {},
     "output_type": "execute_result"
    }
   ],
   "source": [
    "list[1]"
   ]
  },
  {
   "cell_type": "code",
   "execution_count": 43,
   "id": "3e49841b",
   "metadata": {},
   "outputs": [
    {
     "data": {
      "text/plain": [
       "2.5"
      ]
     },
     "execution_count": 43,
     "metadata": {},
     "output_type": "execute_result"
    }
   ],
   "source": [
    "list[2]"
   ]
  },
  {
   "cell_type": "code",
   "execution_count": 44,
   "id": "945dbaf7",
   "metadata": {},
   "outputs": [
    {
     "data": {
      "text/plain": [
       "'Delhi'"
      ]
     },
     "execution_count": 44,
     "metadata": {},
     "output_type": "execute_result"
    }
   ],
   "source": [
    "list[3]"
   ]
  },
  {
   "cell_type": "code",
   "execution_count": 45,
   "id": "32021a70",
   "metadata": {},
   "outputs": [
    {
     "data": {
      "text/plain": [
       "'Delhi'"
      ]
     },
     "execution_count": 45,
     "metadata": {},
     "output_type": "execute_result"
    }
   ],
   "source": [
    "list[-1]"
   ]
  },
  {
   "cell_type": "code",
   "execution_count": 46,
   "id": "b26bb6d4",
   "metadata": {},
   "outputs": [
    {
     "name": "stdout",
     "output_type": "stream",
     "text": [
      "[50, 25, 2.5, 'Delhi']\n"
     ]
    }
   ],
   "source": [
    "list[0]=50\n",
    "print(list)"
   ]
  },
  {
   "cell_type": "code",
   "execution_count": 47,
   "id": "5f155383",
   "metadata": {},
   "outputs": [],
   "source": [
    "#slicing---Accessing the range of elements /values from the list  #list[start:End]"
   ]
  },
  {
   "cell_type": "code",
   "execution_count": 48,
   "id": "a0c42458",
   "metadata": {},
   "outputs": [
    {
     "name": "stdout",
     "output_type": "stream",
     "text": [
      "[25, 2.5]\n"
     ]
    }
   ],
   "source": [
    "print(list[1:3])"
   ]
  },
  {
   "cell_type": "code",
   "execution_count": 49,
   "id": "4ef51464",
   "metadata": {},
   "outputs": [
    {
     "name": "stdout",
     "output_type": "stream",
     "text": [
      "[50, 25]\n"
     ]
    }
   ],
   "source": [
    "print(list[0:2])"
   ]
  },
  {
   "cell_type": "code",
   "execution_count": 50,
   "id": "dcd95ef9",
   "metadata": {},
   "outputs": [
    {
     "name": "stdout",
     "output_type": "stream",
     "text": [
      "[2.5, 'Delhi']\n"
     ]
    }
   ],
   "source": [
    "print(list[2:])"
   ]
  },
  {
   "cell_type": "code",
   "execution_count": 51,
   "id": "34ca309a",
   "metadata": {},
   "outputs": [
    {
     "name": "stdout",
     "output_type": "stream",
     "text": [
      "[2.5, 'Delhi']\n"
     ]
    }
   ],
   "source": [
    "print(list[2:4])"
   ]
  },
  {
   "cell_type": "code",
   "execution_count": 52,
   "id": "627d7caf",
   "metadata": {},
   "outputs": [],
   "source": [
    "#reverse the list"
   ]
  },
  {
   "cell_type": "code",
   "execution_count": 53,
   "id": "fc1db01c",
   "metadata": {},
   "outputs": [
    {
     "name": "stdout",
     "output_type": "stream",
     "text": [
      "['Delhi', 2.5, 25, 50]\n"
     ]
    }
   ],
   "source": [
    "print(list[::-1])"
   ]
  },
  {
   "cell_type": "markdown",
   "id": "20620cc2",
   "metadata": {},
   "source": [
    "# Tuples"
   ]
  },
  {
   "cell_type": "code",
   "execution_count": 54,
   "id": "b70c0a90",
   "metadata": {},
   "outputs": [
    {
     "name": "stdout",
     "output_type": "stream",
     "text": [
      "('street', 'sagar', 254)\n"
     ]
    }
   ],
   "source": [
    "tup=('street','sagar',254)\n",
    "print(tup)"
   ]
  },
  {
   "cell_type": "code",
   "execution_count": 55,
   "id": "a04f5acc",
   "metadata": {},
   "outputs": [
    {
     "name": "stdout",
     "output_type": "stream",
     "text": [
      "street\n",
      "sagar\n"
     ]
    }
   ],
   "source": [
    "#accessing the tuple\n",
    "print(tup[0])\n",
    "print(tup[1])"
   ]
  },
  {
   "cell_type": "code",
   "execution_count": null,
   "id": "135d914a",
   "metadata": {},
   "outputs": [],
   "source": [
    "#Slicing the tuple"
   ]
  },
  {
   "cell_type": "code",
   "execution_count": 56,
   "id": "382e323f",
   "metadata": {},
   "outputs": [
    {
     "name": "stdout",
     "output_type": "stream",
     "text": [
      "('sagar', 254)\n"
     ]
    }
   ],
   "source": [
    "print(tup[1:])"
   ]
  },
  {
   "cell_type": "code",
   "execution_count": 57,
   "id": "da1bead7",
   "metadata": {},
   "outputs": [
    {
     "name": "stdout",
     "output_type": "stream",
     "text": [
      "('street', 'sagar')\n"
     ]
    }
   ],
   "source": [
    "print(tup[:2])"
   ]
  },
  {
   "cell_type": "code",
   "execution_count": 59,
   "id": "45a9fed0",
   "metadata": {},
   "outputs": [],
   "source": [
    "#deleting a tuple\n",
    "del(tup)"
   ]
  },
  {
   "cell_type": "code",
   "execution_count": 60,
   "id": "3dd37857",
   "metadata": {},
   "outputs": [
    {
     "ename": "NameError",
     "evalue": "name 'tup' is not defined",
     "output_type": "error",
     "traceback": [
      "\u001b[1;31m---------------------------------------------------------------------------\u001b[0m",
      "\u001b[1;31mNameError\u001b[0m                                 Traceback (most recent call last)",
      "\u001b[1;32m~\\AppData\\Local\\Temp\\ipykernel_3840\\1450280469.py\u001b[0m in \u001b[0;36m<module>\u001b[1;34m\u001b[0m\n\u001b[1;32m----> 1\u001b[1;33m \u001b[0mtup\u001b[0m\u001b[1;33m\u001b[0m\u001b[1;33m\u001b[0m\u001b[0m\n\u001b[0m",
      "\u001b[1;31mNameError\u001b[0m: name 'tup' is not defined"
     ]
    }
   ],
   "source": [
    "tup"
   ]
  },
  {
   "cell_type": "markdown",
   "id": "710ade6e",
   "metadata": {},
   "source": [
    "# Set\n"
   ]
  },
  {
   "cell_type": "code",
   "execution_count": 61,
   "id": "3f14835b",
   "metadata": {},
   "outputs": [
    {
     "name": "stdout",
     "output_type": "stream",
     "text": [
      "{1, 2, 3, 4}\n"
     ]
    }
   ],
   "source": [
    "a={1,2,3,4}\n",
    "print(a)"
   ]
  },
  {
   "cell_type": "code",
   "execution_count": 62,
   "id": "300ac6ac",
   "metadata": {},
   "outputs": [],
   "source": [
    "a.add(50)"
   ]
  },
  {
   "cell_type": "code",
   "execution_count": 63,
   "id": "73c00642",
   "metadata": {},
   "outputs": [
    {
     "name": "stdout",
     "output_type": "stream",
     "text": [
      "{1, 2, 3, 4, 50}\n"
     ]
    }
   ],
   "source": [
    "print(a)"
   ]
  },
  {
   "cell_type": "code",
   "execution_count": 64,
   "id": "3d899b0b",
   "metadata": {},
   "outputs": [
    {
     "data": {
      "text/plain": [
       "{1, 2, 3, 4, 5, 6}"
      ]
     },
     "execution_count": 64,
     "metadata": {},
     "output_type": "execute_result"
    }
   ],
   "source": [
    "a={1,6,5,3,2,4}\n",
    "a"
   ]
  },
  {
   "cell_type": "markdown",
   "id": "9c8222e4",
   "metadata": {},
   "source": [
    "# Dictionary"
   ]
  },
  {
   "cell_type": "code",
   "execution_count": 2,
   "id": "a17ec974",
   "metadata": {},
   "outputs": [
    {
     "data": {
      "text/plain": [
       "{'Name': 'Samuel', 'Age': 30}"
      ]
     },
     "execution_count": 2,
     "metadata": {},
     "output_type": "execute_result"
    }
   ],
   "source": [
    "d={'Name':'Samuel','Age':30}\n",
    "d"
   ]
  },
  {
   "cell_type": "code",
   "execution_count": 3,
   "id": "e35bf6fe",
   "metadata": {},
   "outputs": [
    {
     "name": "stdout",
     "output_type": "stream",
     "text": [
      "Samuel\n"
     ]
    }
   ],
   "source": [
    "print(d['Name'])"
   ]
  },
  {
   "cell_type": "code",
   "execution_count": 4,
   "id": "9b555d45",
   "metadata": {},
   "outputs": [
    {
     "name": "stdout",
     "output_type": "stream",
     "text": [
      "30\n"
     ]
    }
   ],
   "source": [
    "print(d['Age'])"
   ]
  },
  {
   "cell_type": "code",
   "execution_count": 5,
   "id": "e3fcb0f9",
   "metadata": {},
   "outputs": [
    {
     "data": {
      "text/plain": [
       "{'Name': 'Samuel', 'Age': 40}"
      ]
     },
     "execution_count": 5,
     "metadata": {},
     "output_type": "execute_result"
    }
   ],
   "source": [
    "#update Dictionary\n",
    "d['Age']=40\n",
    "d"
   ]
  },
  {
   "cell_type": "code",
   "execution_count": 6,
   "id": "210fd891",
   "metadata": {},
   "outputs": [
    {
     "data": {
      "text/plain": [
       "dict_items([('Name', 'Samuel'), ('Age', 40)])"
      ]
     },
     "execution_count": 6,
     "metadata": {},
     "output_type": "execute_result"
    }
   ],
   "source": [
    "d.items()"
   ]
  },
  {
   "cell_type": "code",
   "execution_count": 7,
   "id": "521b0d78",
   "metadata": {},
   "outputs": [
    {
     "data": {
      "text/plain": [
       "dict_keys(['Name', 'Age'])"
      ]
     },
     "execution_count": 7,
     "metadata": {},
     "output_type": "execute_result"
    }
   ],
   "source": [
    "d.keys()"
   ]
  },
  {
   "cell_type": "code",
   "execution_count": 8,
   "id": "0890aa86",
   "metadata": {},
   "outputs": [
    {
     "data": {
      "text/plain": [
       "dict_values(['Samuel', 40])"
      ]
     },
     "execution_count": 8,
     "metadata": {},
     "output_type": "execute_result"
    }
   ],
   "source": [
    "d.values()"
   ]
  },
  {
   "cell_type": "markdown",
   "id": "5c2caae0",
   "metadata": {},
   "source": [
    "# Statement"
   ]
  },
  {
   "cell_type": "code",
   "execution_count": 9,
   "id": "65ec1071",
   "metadata": {},
   "outputs": [],
   "source": [
    "#if\n",
    "#if else\n",
    "#elif"
   ]
  },
  {
   "cell_type": "code",
   "execution_count": 10,
   "id": "2429c55b",
   "metadata": {},
   "outputs": [
    {
     "name": "stdout",
     "output_type": "stream",
     "text": [
      "Enter a Number: 100\n",
      "You Entered My Favourite Number\n"
     ]
    }
   ],
   "source": [
    "#if\n",
    "x=int(input('Enter a Number: '))\n",
    "\n",
    "if x==100:\n",
    "    print('You Entered My Favourite Number')"
   ]
  },
  {
   "cell_type": "code",
   "execution_count": 12,
   "id": "9894eb7f",
   "metadata": {},
   "outputs": [
    {
     "name": "stdout",
     "output_type": "stream",
     "text": [
      "Enter a Number: 50\n",
      "This is not my Favorite Number\n"
     ]
    }
   ],
   "source": [
    "#if else\n",
    "x=int(input('Enter a Number: '))\n",
    "\n",
    "if x==100:\n",
    "    print('You entered by Favourite Number')\n",
    "else:\n",
    "    print('This is not my Favorite Number')"
   ]
  },
  {
   "cell_type": "code",
   "execution_count": 14,
   "id": "715e3f47",
   "metadata": {},
   "outputs": [
    {
     "name": "stdout",
     "output_type": "stream",
     "text": [
      "Enter the value of a: 50\n",
      "Enter the value of b: 100\n",
      "b is greater\n"
     ]
    }
   ],
   "source": [
    "#elif Statement\n",
    "a=int(input('Enter the value of a: '))\n",
    "b=int(input('Enter the value of b: '))\n",
    "\n",
    "if a<b:\n",
    "    print('b is greater')\n",
    "elif a==b:\n",
    "    print('a is equal to b')\n",
    "else:\n",
    "    print('a is greater')"
   ]
  },
  {
   "cell_type": "markdown",
   "id": "28887386",
   "metadata": {},
   "source": [
    "# For Loop"
   ]
  },
  {
   "cell_type": "code",
   "execution_count": 15,
   "id": "c7366afe",
   "metadata": {},
   "outputs": [],
   "source": [
    "list=['Indra','Raju','Sai','John']"
   ]
  },
  {
   "cell_type": "code",
   "execution_count": 16,
   "id": "3a83c81d",
   "metadata": {},
   "outputs": [
    {
     "name": "stdout",
     "output_type": "stream",
     "text": [
      "Indra\n",
      "Raju\n",
      "Sai\n",
      "John\n"
     ]
    }
   ],
   "source": [
    "for i in list:\n",
    "    print(i)"
   ]
  },
  {
   "cell_type": "code",
   "execution_count": 17,
   "id": "c26b2cb2",
   "metadata": {},
   "outputs": [
    {
     "name": "stdout",
     "output_type": "stream",
     "text": [
      "BMW\n",
      "Audi\n",
      "Mecedez\n",
      "Volvo\n"
     ]
    }
   ],
   "source": [
    "cars=['BMW','Audi','Mecedez','Volvo']\n",
    "for i in cars:\n",
    "    print(i)"
   ]
  },
  {
   "cell_type": "code",
   "execution_count": 18,
   "id": "6a4f12b6",
   "metadata": {},
   "outputs": [
    {
     "name": "stdout",
     "output_type": "stream",
     "text": [
      "0\n",
      "1\n",
      "2\n",
      "3\n",
      "4\n",
      "5\n",
      "6\n",
      "7\n",
      "8\n",
      "9\n"
     ]
    }
   ],
   "source": [
    "for i in range(10):\n",
    "    print(i)"
   ]
  },
  {
   "cell_type": "code",
   "execution_count": 19,
   "id": "6a1b0aec",
   "metadata": {},
   "outputs": [
    {
     "name": "stdout",
     "output_type": "stream",
     "text": [
      "0\n",
      "1\n",
      "2\n",
      "3\n",
      "4\n",
      "5\n",
      "6\n",
      "7\n",
      "8\n",
      "9\n",
      "10\n",
      "11\n",
      "12\n",
      "13\n",
      "14\n",
      "15\n",
      "16\n",
      "17\n",
      "18\n",
      "19\n",
      "20\n",
      "21\n",
      "22\n",
      "23\n",
      "24\n"
     ]
    }
   ],
   "source": [
    "for i in range(25):\n",
    "    print(i)"
   ]
  },
  {
   "cell_type": "markdown",
   "id": "b1d973b1",
   "metadata": {},
   "source": [
    "# While Loop"
   ]
  },
  {
   "cell_type": "code",
   "execution_count": 20,
   "id": "4dd0b993",
   "metadata": {},
   "outputs": [
    {
     "name": "stdout",
     "output_type": "stream",
     "text": [
      "0\n",
      "1\n",
      "2\n",
      "3\n",
      "4\n",
      "5\n"
     ]
    }
   ],
   "source": [
    "i=0\n",
    "\n",
    "while i<=5:\n",
    "    print(i)\n",
    "    i+=1   #i=i+1"
   ]
  },
  {
   "cell_type": "code",
   "execution_count": 21,
   "id": "aa2f0966",
   "metadata": {},
   "outputs": [
    {
     "name": "stdout",
     "output_type": "stream",
     "text": [
      "1\n",
      "2\n",
      "3\n",
      "4\n",
      "5\n",
      "7\n",
      "8\n"
     ]
    }
   ],
   "source": [
    "#While Loop with Continue\n",
    "# Prints all the elements till condition gets False and skips that if condition is met\n",
    "\n",
    "\n",
    "i=0\n",
    "\n",
    "while i<=7:\n",
    "    i+=1\n",
    "    if i==6:\n",
    "        continue\n",
    "    print(i)\n",
    "    "
   ]
  },
  {
   "cell_type": "code",
   "execution_count": 22,
   "id": "f2f9034a",
   "metadata": {},
   "outputs": [
    {
     "name": "stdout",
     "output_type": "stream",
     "text": [
      "1\n",
      "2\n",
      "3\n"
     ]
    }
   ],
   "source": [
    "# while Loop with Break Statement\n",
    "i=1\n",
    "while i<6:\n",
    "    print(i)\n",
    "    if i==3:\n",
    "        break\n",
    "    i+=1"
   ]
  },
  {
   "cell_type": "code",
   "execution_count": 23,
   "id": "2b5ba1f6",
   "metadata": {},
   "outputs": [
    {
     "name": "stdout",
     "output_type": "stream",
     "text": [
      "Present Letter:  C\n",
      "Present Letter:  a\n",
      "Present Letter:  m\n",
      "Present Letter:  b\n",
      "Present Letter:  r\n",
      "Present Letter:  i\n",
      "Present Letter:  d\n",
      "Present Letter:  e\n"
     ]
    }
   ],
   "source": [
    "# While Loop with Pass Statement\n",
    "i=0\n",
    "str1='Cambridge'\n",
    "\n",
    "while i<len(str1):\n",
    "    if str1[i]=='g':\n",
    "        i=i+1\n",
    "        \n",
    "        pass\n",
    "    print('Present Letter: ',str1[i])\n",
    "    i=i+1"
   ]
  },
  {
   "cell_type": "markdown",
   "id": "1f36d8f5",
   "metadata": {},
   "source": [
    "# Functions"
   ]
  },
  {
   "cell_type": "code",
   "execution_count": 24,
   "id": "b6ffb41e",
   "metadata": {},
   "outputs": [],
   "source": [
    "# function in python(Defineing a function)\n",
    "def func1():\n",
    "    print('Hello I am A Function')\n",
    "    print('I am Ready')"
   ]
  },
  {
   "cell_type": "code",
   "execution_count": 25,
   "id": "c7c0e1cb",
   "metadata": {},
   "outputs": [
    {
     "name": "stdout",
     "output_type": "stream",
     "text": [
      "Hello I am A Function\n",
      "I am Ready\n"
     ]
    }
   ],
   "source": [
    "# Calling a Function\n",
    "func1()"
   ]
  },
  {
   "cell_type": "code",
   "execution_count": 29,
   "id": "d55f44c9",
   "metadata": {},
   "outputs": [],
   "source": [
    "def func2(fname):\n",
    "    print('Good Evening Welcome to the Session '+ fname)"
   ]
  },
  {
   "cell_type": "code",
   "execution_count": 30,
   "id": "ba2c9560",
   "metadata": {},
   "outputs": [
    {
     "name": "stdout",
     "output_type": "stream",
     "text": [
      "Good Evening Welcome to the Session Johnny\n"
     ]
    }
   ],
   "source": [
    "func2('Johnny')"
   ]
  },
  {
   "cell_type": "code",
   "execution_count": 31,
   "id": "ff9aea59",
   "metadata": {},
   "outputs": [],
   "source": [
    "def f3(a,b):\n",
    "    c=a+b\n",
    "    print(c)"
   ]
  },
  {
   "cell_type": "code",
   "execution_count": 32,
   "id": "ec7f45f9",
   "metadata": {},
   "outputs": [
    {
     "name": "stdout",
     "output_type": "stream",
     "text": [
      "9\n"
     ]
    }
   ],
   "source": [
    "f3(5,4)"
   ]
  },
  {
   "cell_type": "code",
   "execution_count": 33,
   "id": "52ca09b1",
   "metadata": {},
   "outputs": [],
   "source": [
    "def area(r):\n",
    "    a = 3.14*r*r\n",
    "    print(a)"
   ]
  },
  {
   "cell_type": "code",
   "execution_count": 34,
   "id": "74fdf901",
   "metadata": {},
   "outputs": [
    {
     "name": "stdout",
     "output_type": "stream",
     "text": [
      "78.5\n"
     ]
    }
   ],
   "source": [
    "area(5)"
   ]
  },
  {
   "cell_type": "code",
   "execution_count": 35,
   "id": "9566e3ca",
   "metadata": {},
   "outputs": [],
   "source": [
    "def rect(l,b):\n",
    "    area=l*b\n",
    "    print(area)"
   ]
  },
  {
   "cell_type": "code",
   "execution_count": 36,
   "id": "c1abcad2",
   "metadata": {},
   "outputs": [
    {
     "name": "stdout",
     "output_type": "stream",
     "text": [
      "200\n"
     ]
    }
   ],
   "source": [
    "rect(10,20)"
   ]
  },
  {
   "cell_type": "code",
   "execution_count": 38,
   "id": "5317ee82",
   "metadata": {},
   "outputs": [],
   "source": [
    "def bmi(weight,height):\n",
    "    return weight/height**2"
   ]
  },
  {
   "cell_type": "code",
   "execution_count": 39,
   "id": "845e8108",
   "metadata": {},
   "outputs": [
    {
     "data": {
      "text/plain": [
       "22.59814049586777"
      ]
     },
     "execution_count": 39,
     "metadata": {},
     "output_type": "execute_result"
    }
   ],
   "source": [
    "bmi(70,1.76)"
   ]
  },
  {
   "cell_type": "markdown",
   "id": "04f7c02c",
   "metadata": {},
   "source": [
    "# Lambda Function"
   ]
  },
  {
   "cell_type": "code",
   "execution_count": 40,
   "id": "3398b064",
   "metadata": {},
   "outputs": [
    {
     "name": "stdout",
     "output_type": "stream",
     "text": [
      "30\n"
     ]
    }
   ],
   "source": [
    "# add 10 to a argument a\n",
    "x=lambda a: a+10\n",
    "print(x(20))"
   ]
  },
  {
   "cell_type": "code",
   "execution_count": 41,
   "id": "3e57e9dd",
   "metadata": {},
   "outputs": [
    {
     "name": "stdout",
     "output_type": "stream",
     "text": [
      "70\n"
     ]
    }
   ],
   "source": [
    "# Summarize the argumnet with 2 arguments a,b\n",
    "x=lambda a,b : a+b\n",
    "print(x(50,20))"
   ]
  },
  {
   "cell_type": "code",
   "execution_count": 42,
   "id": "c0ef4b41",
   "metadata": {},
   "outputs": [
    {
     "name": "stdout",
     "output_type": "stream",
     "text": [
      "90\n"
     ]
    }
   ],
   "source": [
    "x=lambda a,b,c:a+b+c\n",
    "print(x(20,30,40))"
   ]
  },
  {
   "cell_type": "code",
   "execution_count": 45,
   "id": "aca15da8",
   "metadata": {},
   "outputs": [
    {
     "name": "stdout",
     "output_type": "stream",
     "text": [
      "30\n"
     ]
    }
   ],
   "source": [
    "# Subtraction\n",
    "x=lambda a,b: a-b\n",
    "print(x(50,20))"
   ]
  },
  {
   "cell_type": "code",
   "execution_count": 46,
   "id": "e8527f80",
   "metadata": {},
   "outputs": [
    {
     "name": "stdout",
     "output_type": "stream",
     "text": [
      "1000\n"
     ]
    }
   ],
   "source": [
    "#multiplication\n",
    "x=lambda a,b:a*b\n",
    "print(x(50,20))"
   ]
  },
  {
   "cell_type": "code",
   "execution_count": null,
   "id": "561ae97c",
   "metadata": {},
   "outputs": [],
   "source": []
  }
 ],
 "metadata": {
  "kernelspec": {
   "display_name": "Python 3 (ipykernel)",
   "language": "python",
   "name": "python3"
  },
  "language_info": {
   "codemirror_mode": {
    "name": "ipython",
    "version": 3
   },
   "file_extension": ".py",
   "mimetype": "text/x-python",
   "name": "python",
   "nbconvert_exporter": "python",
   "pygments_lexer": "ipython3",
   "version": "3.9.13"
  }
 },
 "nbformat": 4,
 "nbformat_minor": 5
}
